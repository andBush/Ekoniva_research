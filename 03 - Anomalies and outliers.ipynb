{
 "cells": [
  {
   "cell_type": "code",
   "execution_count": 1,
   "metadata": {
    "id": "zhXOEu3CZkNa"
   },
   "outputs": [],
   "source": [
    "import pandas as pd\n",
    "import seaborn as sns\n",
    "from scipy import stats\n",
    "import matplotlib.pyplot as plt\n",
    "import numpy as np"
   ]
  },
  {
   "cell_type": "markdown",
   "metadata": {
    "id": "Mf_IvG4pwdlY"
   },
   "source": [
    "Загружаем данные по полям"
   ]
  },
  {
   "cell_type": "code",
   "execution_count": 2,
   "metadata": {
    "id": "uwmgsrKCwZk0"
   },
   "outputs": [
    {
     "data": {
      "text/html": [
       "<div>\n",
       "<style scoped>\n",
       "    .dataframe tbody tr th:only-of-type {\n",
       "        vertical-align: middle;\n",
       "    }\n",
       "\n",
       "    .dataframe tbody tr th {\n",
       "        vertical-align: top;\n",
       "    }\n",
       "\n",
       "    .dataframe thead th {\n",
       "        text-align: right;\n",
       "    }\n",
       "</style>\n",
       "<table border=\"1\" class=\"dataframe\">\n",
       "  <thead>\n",
       "    <tr style=\"text-align: right;\">\n",
       "      <th></th>\n",
       "      <th>field</th>\n",
       "      <th>region</th>\n",
       "      <th>land_type</th>\n",
       "      <th>fertility_score</th>\n",
       "      <th>season</th>\n",
       "      <th>crop</th>\n",
       "      <th>crop_predecessor</th>\n",
       "      <th>crop_yearold</th>\n",
       "      <th>area</th>\n",
       "      <th>hybrid</th>\n",
       "      <th>...</th>\n",
       "      <th>seed_origin</th>\n",
       "      <th>technology</th>\n",
       "      <th>yield_plan</th>\n",
       "      <th>p2o5</th>\n",
       "      <th>k2o</th>\n",
       "      <th>humus</th>\n",
       "      <th>ph</th>\n",
       "      <th>absolut</th>\n",
       "      <th>area_y</th>\n",
       "      <th>yield_fact</th>\n",
       "    </tr>\n",
       "  </thead>\n",
       "  <tbody>\n",
       "    <tr>\n",
       "      <th>0</th>\n",
       "      <td>22.47.01.001.01</td>\n",
       "      <td>Алтай</td>\n",
       "      <td>пашня</td>\n",
       "      <td>NaN</td>\n",
       "      <td>2023</td>\n",
       "      <td>Оз.пшеница мягкая</td>\n",
       "      <td>Пар; Яр.пшеница мягкая</td>\n",
       "      <td>NaN</td>\n",
       "      <td>306.22</td>\n",
       "      <td>Скипетр</td>\n",
       "      <td>...</td>\n",
       "      <td>Покупные</td>\n",
       "      <td>минимальная</td>\n",
       "      <td>3.8</td>\n",
       "      <td>221.05</td>\n",
       "      <td>206.3</td>\n",
       "      <td>4.05</td>\n",
       "      <td>5.25</td>\n",
       "      <td>755.01510</td>\n",
       "      <td>306.22</td>\n",
       "      <td>2.465597</td>\n",
       "    </tr>\n",
       "    <tr>\n",
       "      <th>1</th>\n",
       "      <td>22.47.01.001.02</td>\n",
       "      <td>Алтай</td>\n",
       "      <td>пашня</td>\n",
       "      <td>NaN</td>\n",
       "      <td>2023</td>\n",
       "      <td>Пар</td>\n",
       "      <td>Пар; Яр.пшеница мягкая</td>\n",
       "      <td>NaN</td>\n",
       "      <td>63.16</td>\n",
       "      <td>NaN</td>\n",
       "      <td>...</td>\n",
       "      <td>NaN</td>\n",
       "      <td>минимальная</td>\n",
       "      <td>NaN</td>\n",
       "      <td>221.05</td>\n",
       "      <td>206.3</td>\n",
       "      <td>4.05</td>\n",
       "      <td>5.25</td>\n",
       "      <td>NaN</td>\n",
       "      <td>NaN</td>\n",
       "      <td>NaN</td>\n",
       "    </tr>\n",
       "    <tr>\n",
       "      <th>2</th>\n",
       "      <td>22.47.01.002.00</td>\n",
       "      <td>Алтай</td>\n",
       "      <td>пашня</td>\n",
       "      <td>4.0</td>\n",
       "      <td>2023</td>\n",
       "      <td>Пар</td>\n",
       "      <td>Яр.пшеница мягкая</td>\n",
       "      <td>NaN</td>\n",
       "      <td>485.79</td>\n",
       "      <td>NaN</td>\n",
       "      <td>...</td>\n",
       "      <td>NaN</td>\n",
       "      <td>NaN</td>\n",
       "      <td>NaN</td>\n",
       "      <td>199.80</td>\n",
       "      <td>186.0</td>\n",
       "      <td>3.50</td>\n",
       "      <td>5.20</td>\n",
       "      <td>NaN</td>\n",
       "      <td>NaN</td>\n",
       "      <td>NaN</td>\n",
       "    </tr>\n",
       "    <tr>\n",
       "      <th>3</th>\n",
       "      <td>22.47.01.003.00</td>\n",
       "      <td>Алтай</td>\n",
       "      <td>пашня</td>\n",
       "      <td>4.0</td>\n",
       "      <td>2023</td>\n",
       "      <td>Оз.пшеница мягкая</td>\n",
       "      <td>Пар</td>\n",
       "      <td>NaN</td>\n",
       "      <td>452.25</td>\n",
       "      <td>Скипетр</td>\n",
       "      <td>...</td>\n",
       "      <td>Покупные</td>\n",
       "      <td>минимальная</td>\n",
       "      <td>3.8</td>\n",
       "      <td>186.50</td>\n",
       "      <td>174.8</td>\n",
       "      <td>5.90</td>\n",
       "      <td>5.40</td>\n",
       "      <td>1177.06750</td>\n",
       "      <td>452.25</td>\n",
       "      <td>2.602692</td>\n",
       "    </tr>\n",
       "    <tr>\n",
       "      <th>4</th>\n",
       "      <td>22.47.01.004.00</td>\n",
       "      <td>Алтай</td>\n",
       "      <td>пашня</td>\n",
       "      <td>3.0</td>\n",
       "      <td>2023</td>\n",
       "      <td>Оз.пшеница мягкая</td>\n",
       "      <td>Пар</td>\n",
       "      <td>NaN</td>\n",
       "      <td>269.64</td>\n",
       "      <td>Скипетр</td>\n",
       "      <td>...</td>\n",
       "      <td>Покупные</td>\n",
       "      <td>минимальная</td>\n",
       "      <td>3.8</td>\n",
       "      <td>166.60</td>\n",
       "      <td>147.9</td>\n",
       "      <td>5.60</td>\n",
       "      <td>5.40</td>\n",
       "      <td>764.96084</td>\n",
       "      <td>269.64</td>\n",
       "      <td>2.836971</td>\n",
       "    </tr>\n",
       "  </tbody>\n",
       "</table>\n",
       "<p>5 rows × 21 columns</p>\n",
       "</div>"
      ],
      "text/plain": [
       "             field region land_type  fertility_score  season  \\\n",
       "0  22.47.01.001.01  Алтай     пашня              NaN    2023   \n",
       "1  22.47.01.001.02  Алтай     пашня              NaN    2023   \n",
       "2  22.47.01.002.00  Алтай     пашня              4.0    2023   \n",
       "3  22.47.01.003.00  Алтай     пашня              4.0    2023   \n",
       "4  22.47.01.004.00  Алтай     пашня              3.0    2023   \n",
       "\n",
       "                crop        crop_predecessor  crop_yearold    area   hybrid  \\\n",
       "0  Оз.пшеница мягкая  Пар; Яр.пшеница мягкая           NaN  306.22  Скипетр   \n",
       "1                Пар  Пар; Яр.пшеница мягкая           NaN   63.16      NaN   \n",
       "2                Пар       Яр.пшеница мягкая           NaN  485.79      NaN   \n",
       "3  Оз.пшеница мягкая                     Пар           NaN  452.25  Скипетр   \n",
       "4  Оз.пшеница мягкая                     Пар           NaN  269.64  Скипетр   \n",
       "\n",
       "   ... seed_origin   technology yield_plan    p2o5    k2o  humus    ph  \\\n",
       "0  ...    Покупные  минимальная        3.8  221.05  206.3   4.05  5.25   \n",
       "1  ...         NaN  минимальная        NaN  221.05  206.3   4.05  5.25   \n",
       "2  ...         NaN          NaN        NaN  199.80  186.0   3.50  5.20   \n",
       "3  ...    Покупные  минимальная        3.8  186.50  174.8   5.90  5.40   \n",
       "4  ...    Покупные  минимальная        3.8  166.60  147.9   5.60  5.40   \n",
       "\n",
       "      absolut  area_y  yield_fact  \n",
       "0   755.01510  306.22    2.465597  \n",
       "1         NaN     NaN         NaN  \n",
       "2         NaN     NaN         NaN  \n",
       "3  1177.06750  452.25    2.602692  \n",
       "4   764.96084  269.64    2.836971  \n",
       "\n",
       "[5 rows x 21 columns]"
      ]
     },
     "execution_count": 2,
     "metadata": {},
     "output_type": "execute_result"
    }
   ],
   "source": [
    "fields = pd.read_csv('Dataset/fields_merged.csv')\n",
    "fields.head()"
   ]
  },
  {
   "cell_type": "code",
   "execution_count": 3,
   "metadata": {
    "id": "YwO50O4Xwl05"
   },
   "outputs": [],
   "source": [
    "def interquantile_remove(df, columns):\n",
    "    for column in columns:\n",
    "        if \"is_anomaly_\" + column in df.columns:\n",
    "            df_filtered = df[~df[\"is_anomaly_\" + column]]\n",
    "        else:\n",
    "            df_filtered = df\n",
    "\n",
    "        Q1 = df_filtered[column].quantile(0.25)\n",
    "        Q3 = df_filtered[column].quantile(0.75)\n",
    "        IQR = Q3 - Q1\n",
    "\n",
    "        lower_bound = Q1 - 1.5 * IQR\n",
    "        upper_bound = Q3 + 1.5 * IQR\n",
    "\n",
    "        df[\"is_anomaly_\" + column] = ~((df[column] >= lower_bound) & (df[column] <= upper_bound))\n",
    "\n",
    "    return df"
   ]
  },
  {
   "cell_type": "markdown",
   "metadata": {
    "id": "pLESKy2Zw4bb"
   },
   "source": [
    "Отмечаем пустые поля за аномалии"
   ]
  },
  {
   "cell_type": "code",
   "execution_count": 4,
   "metadata": {
    "id": "sqe8fga3wyoz"
   },
   "outputs": [],
   "source": [
    "for miner in ['p2o5', 'k2o', 'ph', 'humus', 'yield_plan', 'yield_fact']:\n",
    "    fields[f\"is_anomaly_{miner}\"] = fields[miner].isna()"
   ]
  },
  {
   "cell_type": "code",
   "execution_count": 5,
   "metadata": {
    "id": "qObm364uw8Z2"
   },
   "outputs": [
    {
     "name": "stdout",
     "output_type": "stream",
     "text": [
      "Удалено NaN по хим элементам: 5797\n",
      "Удалено NaN по план урожайности: 5205\n",
      "Удалено NaN по факт урожайности: 11298\n"
     ]
    }
   ],
   "source": [
    "print(\"Удалено NaN по хим элементам:\", len(fields[fields['p2o5'].isna() | fields['k2o'].isna() | fields['ph'].isna() | fields['humus'].isna()]))\n",
    "print(\"Удалено NaN по план урожайности:\", len(fields[fields['yield_plan'].isna()]))\n",
    "print(\"Удалено NaN по факт урожайности:\", len(fields[fields['yield_fact'].isna()]))"
   ]
  },
  {
   "cell_type": "markdown",
   "metadata": {
    "id": "jowRTgKzw_mb"
   },
   "source": [
    "Находим выбросы методом интерквартильного размаха"
   ]
  },
  {
   "cell_type": "code",
   "execution_count": 6,
   "metadata": {
    "id": "MHU_p7oGw-_j"
   },
   "outputs": [],
   "source": [
    "fields = interquantile_remove(fields, ['area', 'p2o5', 'k2o', 'humus', 'ph', 'yield_plan', 'yield_fact'])"
   ]
  },
  {
   "cell_type": "code",
   "execution_count": 7,
   "metadata": {
    "id": "ixoYLPe1xlvb"
   },
   "outputs": [],
   "source": [
    "fields['count_anomaly'] = fields['is_anomaly_p2o5'].astype(int) + fields['is_anomaly_k2o'].astype(int) + fields['is_anomaly_ph'].astype(int) + fields['is_anomaly_humus'].astype(int) + fields['is_anomaly_yield_plan'].astype(int)"
   ]
  },
  {
   "cell_type": "code",
   "execution_count": 8,
   "metadata": {
    "id": "elkh4WRAxu0H"
   },
   "outputs": [
    {
     "name": "stdout",
     "output_type": "stream",
     "text": [
      "Выбросы по хим элементам: 6330\n",
      "Выбросы по план урожайности: 5386\n",
      "Выбросы по факт урожайности: 11394\n",
      "Всего выбросов: 12446\n",
      "\n",
      "Было: 16060\n",
      "Осталось: 3614\n"
     ]
    }
   ],
   "source": [
    "cleaned = fields[fields['is_anomaly_p2o5'] | fields['is_anomaly_k2o'] | fields['is_anomaly_ph'] | fields['is_anomaly_humus']]\n",
    "cleaned_plan = fields[fields['is_anomaly_yield_plan']]\n",
    "cleaned_fact = fields[fields['is_anomaly_yield_fact']]\n",
    "cleaned_all = fields[(fields['count_anomaly'] > 0) | fields['is_anomaly_yield_fact']]\n",
    "\n",
    "print('Выбросы по хим элементам:', len(cleaned))\n",
    "print('Выбросы по план урожайности:', len(cleaned_plan))\n",
    "print('Выбросы по факт урожайности:', len(cleaned_fact))\n",
    "print(\"Всего выбросов:\", len(cleaned_all))\n",
    "print()\n",
    "print(\"Было:\", len(fields))\n",
    "print(\"Осталось:\", len(fields) - len(cleaned_all))"
   ]
  },
  {
   "cell_type": "markdown",
   "metadata": {
    "id": "QlbVZ_C4yNtS"
   },
   "source": [
    "Сохраняем датасет"
   ]
  },
  {
   "cell_type": "code",
   "execution_count": 9,
   "metadata": {
    "id": "pDpBUImjx0O_"
   },
   "outputs": [],
   "source": [
    "fields.to_csv(\"Dataset/fields_anomaly.csv\", index=False)"
   ]
  },
  {
   "cell_type": "code",
   "execution_count": null,
   "metadata": {},
   "outputs": [],
   "source": []
  }
 ],
 "metadata": {
  "colab": {
   "provenance": []
  },
  "kernelspec": {
   "display_name": "Python 3 (ipykernel)",
   "language": "python",
   "name": "python3"
  },
  "language_info": {
   "codemirror_mode": {
    "name": "ipython",
    "version": 3
   },
   "file_extension": ".py",
   "mimetype": "text/x-python",
   "name": "python",
   "nbconvert_exporter": "python",
   "pygments_lexer": "ipython3",
   "version": "3.12.7"
  }
 },
 "nbformat": 4,
 "nbformat_minor": 4
}
