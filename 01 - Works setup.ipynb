{
 "cells": [
  {
   "cell_type": "code",
   "execution_count": 1,
   "metadata": {
    "id": "ltSjP_bJYoit"
   },
   "outputs": [],
   "source": [
    "import pandas as pd\n",
    "import seaborn as sns\n",
    "from scipy import stats\n",
    "import matplotlib.pyplot as plt\n",
    "import numpy as np"
   ]
  },
  {
   "cell_type": "markdown",
   "metadata": {
    "id": "rDpdksxCkhDQ"
   },
   "source": [
    "Загружаем датасет"
   ]
  },
  {
   "cell_type": "code",
   "execution_count": 2,
   "metadata": {
    "id": "QuJRgfjCjzb1"
   },
   "outputs": [
    {
     "data": {
      "text/html": [
       "<div>\n",
       "<style scoped>\n",
       "    .dataframe tbody tr th:only-of-type {\n",
       "        vertical-align: middle;\n",
       "    }\n",
       "\n",
       "    .dataframe tbody tr th {\n",
       "        vertical-align: top;\n",
       "    }\n",
       "\n",
       "    .dataframe thead th {\n",
       "        text-align: right;\n",
       "    }\n",
       "</style>\n",
       "<table border=\"1\" class=\"dataframe\">\n",
       "  <thead>\n",
       "    <tr style=\"text-align: right;\">\n",
       "      <th></th>\n",
       "      <th>season</th>\n",
       "      <th>field</th>\n",
       "      <th>work_type</th>\n",
       "      <th>work_subtype</th>\n",
       "      <th>start_date</th>\n",
       "      <th>end_date</th>\n",
       "      <th>area</th>\n",
       "      <th>main_tech</th>\n",
       "      <th>add_tech</th>\n",
       "      <th>mech</th>\n",
       "      <th>proc_depth</th>\n",
       "      <th>prod_purpose</th>\n",
       "      <th>prod_weight</th>\n",
       "      <th>Unnamed: 13</th>\n",
       "      <th>Unnamed: 14</th>\n",
       "      <th>prod_dry_perc</th>\n",
       "      <th>prod_humid</th>\n",
       "      <th>prod_impur</th>\n",
       "      <th>yield_fact</th>\n",
       "      <th>work_id</th>\n",
       "    </tr>\n",
       "  </thead>\n",
       "  <tbody>\n",
       "    <tr>\n",
       "      <th>0</th>\n",
       "      <td>2023</td>\n",
       "      <td>16.13.12.044.00</td>\n",
       "      <td>Обработка почвы</td>\n",
       "      <td>Боронование</td>\n",
       "      <td>2022-04-29</td>\n",
       "      <td>2022-04-30</td>\n",
       "      <td>49.78</td>\n",
       "      <td>Трактор колесный Fendt 936 Vario, гос.ном. 050...</td>\n",
       "      <td>Арендованная техника</td>\n",
       "      <td>Ахметсафин Айрат Рафикович</td>\n",
       "      <td>10.0</td>\n",
       "      <td>NaN</td>\n",
       "      <td>0.0</td>\n",
       "      <td>1.0</td>\n",
       "      <td>0.0</td>\n",
       "      <td>NaN</td>\n",
       "      <td>NaN</td>\n",
       "      <td>NaN</td>\n",
       "      <td>0.0</td>\n",
       "      <td>A06AD38A-5448-40EC-B095-4B8918B4AC10</td>\n",
       "    </tr>\n",
       "    <tr>\n",
       "      <th>1</th>\n",
       "      <td>2023</td>\n",
       "      <td>16.13.12.017.00</td>\n",
       "      <td>Обработка почвы</td>\n",
       "      <td>Боронование</td>\n",
       "      <td>2022-05-01</td>\n",
       "      <td>2022-05-02</td>\n",
       "      <td>154.76</td>\n",
       "      <td>Трактор колесный Птз К-744Р4, гос.ном. 2251АА1...</td>\n",
       "      <td>Борона зубовая Veles АГС-22-2У.М, зав.ном. 789</td>\n",
       "      <td>Ямалетдинов Фарид Расыхович</td>\n",
       "      <td>10.0</td>\n",
       "      <td>NaN</td>\n",
       "      <td>0.0</td>\n",
       "      <td>1.0</td>\n",
       "      <td>0.0</td>\n",
       "      <td>NaN</td>\n",
       "      <td>NaN</td>\n",
       "      <td>NaN</td>\n",
       "      <td>0.0</td>\n",
       "      <td>62B13DCE-FFB5-4E7A-8F1B-88930BD338EF</td>\n",
       "    </tr>\n",
       "    <tr>\n",
       "      <th>2</th>\n",
       "      <td>2023</td>\n",
       "      <td>16.13.12.012.00</td>\n",
       "      <td>Обработка почвы</td>\n",
       "      <td>Боронование</td>\n",
       "      <td>2022-05-02</td>\n",
       "      <td>2022-05-03</td>\n",
       "      <td>40.62</td>\n",
       "      <td>Трактор колесный Fendt 936 Vario, гос.ном. 050...</td>\n",
       "      <td>Арендованная техника</td>\n",
       "      <td>Мухаметзянов Ринат Айратович</td>\n",
       "      <td>10.0</td>\n",
       "      <td>NaN</td>\n",
       "      <td>0.0</td>\n",
       "      <td>1.0</td>\n",
       "      <td>0.0</td>\n",
       "      <td>NaN</td>\n",
       "      <td>NaN</td>\n",
       "      <td>NaN</td>\n",
       "      <td>0.0</td>\n",
       "      <td>D5884A6D-4710-4C0A-8E5A-878291B89846</td>\n",
       "    </tr>\n",
       "    <tr>\n",
       "      <th>3</th>\n",
       "      <td>2023</td>\n",
       "      <td>16.13.12.012.00</td>\n",
       "      <td>Обработка почвы</td>\n",
       "      <td>Боронование</td>\n",
       "      <td>2022-05-02</td>\n",
       "      <td>2022-05-03</td>\n",
       "      <td>86.00</td>\n",
       "      <td>Трактор колесный Птз К-744Р4, гос.ном. 2251АА1...</td>\n",
       "      <td>Борона зубовая Veles АГС-22-2У.М, зав.ном. 789</td>\n",
       "      <td>Шакиров Ринат Галиевич</td>\n",
       "      <td>10.0</td>\n",
       "      <td>NaN</td>\n",
       "      <td>0.0</td>\n",
       "      <td>1.0</td>\n",
       "      <td>0.0</td>\n",
       "      <td>NaN</td>\n",
       "      <td>NaN</td>\n",
       "      <td>NaN</td>\n",
       "      <td>0.0</td>\n",
       "      <td>7A504837-1127-4315-ACF1-171AC80111BF</td>\n",
       "    </tr>\n",
       "    <tr>\n",
       "      <th>4</th>\n",
       "      <td>2023</td>\n",
       "      <td>16.13.12.017.00</td>\n",
       "      <td>Обработка почвы</td>\n",
       "      <td>Боронование</td>\n",
       "      <td>2022-05-02</td>\n",
       "      <td>2022-05-03</td>\n",
       "      <td>76.00</td>\n",
       "      <td>Трактор колесный Птз К-744Р4, гос.ном. 2251АА1...</td>\n",
       "      <td>Борона зубовая Veles АГС-22-2У.М, зав.ном. 789</td>\n",
       "      <td>Шакиров Ринат Галиевич</td>\n",
       "      <td>10.0</td>\n",
       "      <td>NaN</td>\n",
       "      <td>0.0</td>\n",
       "      <td>1.0</td>\n",
       "      <td>0.0</td>\n",
       "      <td>NaN</td>\n",
       "      <td>NaN</td>\n",
       "      <td>NaN</td>\n",
       "      <td>0.0</td>\n",
       "      <td>7FE86DA8-614B-4EBE-85CB-6AF80C08689F</td>\n",
       "    </tr>\n",
       "  </tbody>\n",
       "</table>\n",
       "</div>"
      ],
      "text/plain": [
       "   season            field        work_type work_subtype start_date  \\\n",
       "0    2023  16.13.12.044.00  Обработка почвы  Боронование 2022-04-29   \n",
       "1    2023  16.13.12.017.00  Обработка почвы  Боронование 2022-05-01   \n",
       "2    2023  16.13.12.012.00  Обработка почвы  Боронование 2022-05-02   \n",
       "3    2023  16.13.12.012.00  Обработка почвы  Боронование 2022-05-02   \n",
       "4    2023  16.13.12.017.00  Обработка почвы  Боронование 2022-05-02   \n",
       "\n",
       "    end_date    area                                          main_tech  \\\n",
       "0 2022-04-30   49.78  Трактор колесный Fendt 936 Vario, гос.ном. 050...   \n",
       "1 2022-05-02  154.76  Трактор колесный Птз К-744Р4, гос.ном. 2251АА1...   \n",
       "2 2022-05-03   40.62  Трактор колесный Fendt 936 Vario, гос.ном. 050...   \n",
       "3 2022-05-03   86.00  Трактор колесный Птз К-744Р4, гос.ном. 2251АА1...   \n",
       "4 2022-05-03   76.00  Трактор колесный Птз К-744Р4, гос.ном. 2251АА1...   \n",
       "\n",
       "                                         add_tech  \\\n",
       "0                            Арендованная техника   \n",
       "1  Борона зубовая Veles АГС-22-2У.М, зав.ном. 789   \n",
       "2                            Арендованная техника   \n",
       "3  Борона зубовая Veles АГС-22-2У.М, зав.ном. 789   \n",
       "4  Борона зубовая Veles АГС-22-2У.М, зав.ном. 789   \n",
       "\n",
       "                           mech  proc_depth prod_purpose  prod_weight  \\\n",
       "0    Ахметсафин Айрат Рафикович        10.0          NaN          0.0   \n",
       "1   Ямалетдинов Фарид Расыхович        10.0          NaN          0.0   \n",
       "2  Мухаметзянов Ринат Айратович        10.0          NaN          0.0   \n",
       "3        Шакиров Ринат Галиевич        10.0          NaN          0.0   \n",
       "4        Шакиров Ринат Галиевич        10.0          NaN          0.0   \n",
       "\n",
       "   Unnamed: 13  Unnamed: 14  prod_dry_perc  prod_humid  prod_impur  \\\n",
       "0          1.0          0.0            NaN         NaN         NaN   \n",
       "1          1.0          0.0            NaN         NaN         NaN   \n",
       "2          1.0          0.0            NaN         NaN         NaN   \n",
       "3          1.0          0.0            NaN         NaN         NaN   \n",
       "4          1.0          0.0            NaN         NaN         NaN   \n",
       "\n",
       "   yield_fact                               work_id  \n",
       "0         0.0  A06AD38A-5448-40EC-B095-4B8918B4AC10  \n",
       "1         0.0  62B13DCE-FFB5-4E7A-8F1B-88930BD338EF  \n",
       "2         0.0  D5884A6D-4710-4C0A-8E5A-878291B89846  \n",
       "3         0.0  7A504837-1127-4315-ACF1-171AC80111BF  \n",
       "4         0.0  7FE86DA8-614B-4EBE-85CB-6AF80C08689F  "
      ]
     },
     "execution_count": 2,
     "metadata": {},
     "output_type": "execute_result"
    }
   ],
   "source": [
    "works = pd.read_excel('Dataset/ekoniva.xlsx', '2 Информация о работах', header=2)\n",
    "works[['area', 'proc_depth', 'prod_weight', 'prod_dry_perc', 'prod_humid', 'prod_impur', 'yield_fact']] = works[['area', 'proc_depth', 'prod_weight', 'prod_dry_perc', 'prod_humid', 'prod_impur', 'yield_fact']].astype(float)\n",
    "works.head()"
   ]
  },
  {
   "cell_type": "markdown",
   "metadata": {
    "id": "U6NzH42ak_iD"
   },
   "source": [
    "Оставляем только Прямое комбайнирование и Подбор обмолот"
   ]
  },
  {
   "cell_type": "code",
   "execution_count": 3,
   "metadata": {
    "id": "WeOe9neBj1q7"
   },
   "outputs": [],
   "source": [
    "df = works\n",
    "df = df[df['work_subtype'].isin(['Подбор и обмолот', 'Прямое комбайнирование'])]"
   ]
  },
  {
   "cell_type": "markdown",
   "metadata": {
    "id": "E50fdkhxlo6z"
   },
   "source": [
    "Найдём все значения выбросов методом интерквартильного размаха (по верхней границе). Предположим, что эти данные указаны в неправильной размерности (вместо т/га - кг/га). Переводим размерность обратно."
   ]
  },
  {
   "cell_type": "code",
   "execution_count": 4,
   "metadata": {
    "id": "8bT2S_ivj-SJ"
   },
   "outputs": [
    {
     "data": {
      "text/plain": [
       "np.float64(6.7865)"
      ]
     },
     "execution_count": 4,
     "metadata": {},
     "output_type": "execute_result"
    }
   ],
   "source": [
    "Q1 = df['yield_fact'].quantile(0.25)\n",
    "Q3 = df['yield_fact'].quantile(0.75)\n",
    "\n",
    "IQR = Q3 - Q1\n",
    "\n",
    "upper_bound = Q3 + IQR * 1.5\n",
    "\n",
    "upper_bound"
   ]
  },
  {
   "cell_type": "code",
   "execution_count": 5,
   "metadata": {
    "id": "wAIwcdC8j_CX"
   },
   "outputs": [],
   "source": [
    "df.loc[df['yield_fact'] >= upper_bound, 'yield_fact'] /= 1000\n",
    "df.loc[df['yield_fact'] >= upper_bound, 'yield_fact'] /= 1000\n",
    "\n",
    "df = df[['season', 'field', 'yield_fact', 'area']]\n",
    "df['absolut'] = df['yield_fact'] * df['area']"
   ]
  },
  {
   "cell_type": "code",
   "execution_count": 6,
   "metadata": {
    "id": "31dCYXsh6J2j"
   },
   "outputs": [
    {
     "data": {
      "image/png": "[encoded data removed]",
      "text/plain": [
       "<Figure size 640x480 with 1 Axes>"
      ]
     },
     "metadata": {},
     "output_type": "display_data"
    }
   ],
   "source": [
    "ar = sns.histplot(df, x='yield_fact', color=\"#0090CD\")\n",
    "ar.set_xlabel(\"Фактическая урожайность (нормализованная)\")\n",
    "ar.set_ylabel(\"Количество\")\n",
    "None"
   ]
  },
  {
   "cell_type": "markdown",
   "metadata": {
    "id": "yCfi9_HumHly"
   },
   "source": [
    "График до и после нормализации"
   ]
  },
  {
   "cell_type": "code",
   "execution_count": 7,
   "metadata": {
    "id": "3jRvVqmMkAbm"
   },
   "outputs": [
    {
     "data": {
      "text/html": [
       "<div>\n",
       "<style scoped>\n",
       "    .dataframe tbody tr th:only-of-type {\n",
       "        vertical-align: middle;\n",
       "    }\n",
       "\n",
       "    .dataframe tbody tr th {\n",
       "        vertical-align: top;\n",
       "    }\n",
       "\n",
       "    .dataframe thead th {\n",
       "        text-align: right;\n",
       "    }\n",
       "</style>\n",
       "<table border=\"1\" class=\"dataframe\">\n",
       "  <thead>\n",
       "    <tr style=\"text-align: right;\">\n",
       "      <th></th>\n",
       "      <th>season</th>\n",
       "      <th>start_date</th>\n",
       "      <th>end_date</th>\n",
       "      <th>area</th>\n",
       "      <th>proc_depth</th>\n",
       "      <th>prod_weight</th>\n",
       "      <th>Unnamed: 13</th>\n",
       "      <th>Unnamed: 14</th>\n",
       "      <th>prod_dry_perc</th>\n",
       "      <th>prod_humid</th>\n",
       "      <th>prod_impur</th>\n",
       "      <th>yield_fact</th>\n",
       "      <th>absolut</th>\n",
       "    </tr>\n",
       "  </thead>\n",
       "  <tbody>\n",
       "    <tr>\n",
       "      <th>count</th>\n",
       "      <td>24162.000000</td>\n",
       "      <td>24162</td>\n",
       "      <td>23313</td>\n",
       "      <td>24162.000000</td>\n",
       "      <td>0.0</td>\n",
       "      <td>2.416200e+04</td>\n",
       "      <td>23420.000000</td>\n",
       "      <td>23420.000000</td>\n",
       "      <td>1.0</td>\n",
       "      <td>23548.000000</td>\n",
       "      <td>23548.000000</td>\n",
       "      <td>24162.000000</td>\n",
       "      <td>2.416200e+04</td>\n",
       "    </tr>\n",
       "    <tr>\n",
       "      <th>mean</th>\n",
       "      <td>2023.477154</td>\n",
       "      <td>2024-02-24 16:06:51.224236288</td>\n",
       "      <td>2024-02-27 17:28:34.528374528</td>\n",
       "      <td>18.127367</td>\n",
       "      <td>NaN</td>\n",
       "      <td>3.635466e+03</td>\n",
       "      <td>0.108284</td>\n",
       "      <td>105.588436</td>\n",
       "      <td>34.0</td>\n",
       "      <td>15.457040</td>\n",
       "      <td>4.348107</td>\n",
       "      <td>102.544983</td>\n",
       "      <td>3.635487e+03</td>\n",
       "    </tr>\n",
       "    <tr>\n",
       "      <th>min</th>\n",
       "      <td>2023.000000</td>\n",
       "      <td>2023-07-04 00:00:00</td>\n",
       "      <td>2023-07-04 00:00:00</td>\n",
       "      <td>0.009900</td>\n",
       "      <td>NaN</td>\n",
       "      <td>0.000000e+00</td>\n",
       "      <td>0.000000</td>\n",
       "      <td>0.000000</td>\n",
       "      <td>34.0</td>\n",
       "      <td>0.000000</td>\n",
       "      <td>0.000000</td>\n",
       "      <td>0.000000</td>\n",
       "      <td>0.000000e+00</td>\n",
       "    </tr>\n",
       "    <tr>\n",
       "      <th>25%</th>\n",
       "      <td>2023.000000</td>\n",
       "      <td>2023-08-27 00:00:00</td>\n",
       "      <td>2023-08-28 00:00:00</td>\n",
       "      <td>5.320000</td>\n",
       "      <td>NaN</td>\n",
       "      <td>9.520000e+00</td>\n",
       "      <td>0.000000</td>\n",
       "      <td>1.238304</td>\n",
       "      <td>34.0</td>\n",
       "      <td>12.000000</td>\n",
       "      <td>2.000000</td>\n",
       "      <td>1.309000</td>\n",
       "      <td>9.525600e+00</td>\n",
       "    </tr>\n",
       "    <tr>\n",
       "      <th>50%</th>\n",
       "      <td>2023.000000</td>\n",
       "      <td>2023-12-14 00:00:00</td>\n",
       "      <td>2024-01-10 00:00:00</td>\n",
       "      <td>11.120000</td>\n",
       "      <td>NaN</td>\n",
       "      <td>2.284100e+01</td>\n",
       "      <td>0.000000</td>\n",
       "      <td>2.133968</td>\n",
       "      <td>34.0</td>\n",
       "      <td>14.000000</td>\n",
       "      <td>3.000000</td>\n",
       "      <td>2.177000</td>\n",
       "      <td>2.282753e+01</td>\n",
       "    </tr>\n",
       "    <tr>\n",
       "      <th>75%</th>\n",
       "      <td>2024.000000</td>\n",
       "      <td>2024-08-23 00:00:00</td>\n",
       "      <td>2024-08-24 00:00:00</td>\n",
       "      <td>20.407500</td>\n",
       "      <td>NaN</td>\n",
       "      <td>5.066600e+01</td>\n",
       "      <td>0.000000</td>\n",
       "      <td>3.487958</td>\n",
       "      <td>34.0</td>\n",
       "      <td>16.500000</td>\n",
       "      <td>5.000000</td>\n",
       "      <td>3.500000</td>\n",
       "      <td>5.067597e+01</td>\n",
       "    </tr>\n",
       "    <tr>\n",
       "      <th>max</th>\n",
       "      <td>2024.000000</td>\n",
       "      <td>2024-10-27 00:00:00</td>\n",
       "      <td>2024-10-27 00:00:00</td>\n",
       "      <td>565.410000</td>\n",
       "      <td>NaN</td>\n",
       "      <td>6.797438e+06</td>\n",
       "      <td>1.000000</td>\n",
       "      <td>415745.412844</td>\n",
       "      <td>34.0</td>\n",
       "      <td>14172.000000</td>\n",
       "      <td>230.000000</td>\n",
       "      <td>415745.400000</td>\n",
       "      <td>6.797437e+06</td>\n",
       "    </tr>\n",
       "    <tr>\n",
       "      <th>std</th>\n",
       "      <td>0.499488</td>\n",
       "      <td>NaN</td>\n",
       "      <td>NaN</td>\n",
       "      <td>27.205798</td>\n",
       "      <td>NaN</td>\n",
       "      <td>5.638758e+04</td>\n",
       "      <td>0.310745</td>\n",
       "      <td>2774.124394</td>\n",
       "      <td>NaN</td>\n",
       "      <td>93.592502</td>\n",
       "      <td>5.867239</td>\n",
       "      <td>2731.259492</td>\n",
       "      <td>5.638757e+04</td>\n",
       "    </tr>\n",
       "  </tbody>\n",
       "</table>\n",
       "</div>"
      ],
      "text/plain": [
       "             season                     start_date  \\\n",
       "count  24162.000000                          24162   \n",
       "mean    2023.477154  2024-02-24 16:06:51.224236288   \n",
       "min     2023.000000            2023-07-04 00:00:00   \n",
       "25%     2023.000000            2023-08-27 00:00:00   \n",
       "50%     2023.000000            2023-12-14 00:00:00   \n",
       "75%     2024.000000            2024-08-23 00:00:00   \n",
       "max     2024.000000            2024-10-27 00:00:00   \n",
       "std        0.499488                            NaN   \n",
       "\n",
       "                            end_date          area  proc_depth   prod_weight  \\\n",
       "count                          23313  24162.000000         0.0  2.416200e+04   \n",
       "mean   2024-02-27 17:28:34.528374528     18.127367         NaN  3.635466e+03   \n",
       "min              2023-07-04 00:00:00      0.009900         NaN  0.000000e+00   \n",
       "25%              2023-08-28 00:00:00      5.320000         NaN  9.520000e+00   \n",
       "50%              2024-01-10 00:00:00     11.120000         NaN  2.284100e+01   \n",
       "75%              2024-08-24 00:00:00     20.407500         NaN  5.066600e+01   \n",
       "max              2024-10-27 00:00:00    565.410000         NaN  6.797438e+06   \n",
       "std                              NaN     27.205798         NaN  5.638758e+04   \n",
       "\n",
       "        Unnamed: 13    Unnamed: 14  prod_dry_perc    prod_humid    prod_impur  \\\n",
       "count  23420.000000   23420.000000            1.0  23548.000000  23548.000000   \n",
       "mean       0.108284     105.588436           34.0     15.457040      4.348107   \n",
       "min        0.000000       0.000000           34.0      0.000000      0.000000   \n",
       "25%        0.000000       1.238304           34.0     12.000000      2.000000   \n",
       "50%        0.000000       2.133968           34.0     14.000000      3.000000   \n",
       "75%        0.000000       3.487958           34.0     16.500000      5.000000   \n",
       "max        1.000000  415745.412844           34.0  14172.000000    230.000000   \n",
       "std        0.310745    2774.124394            NaN     93.592502      5.867239   \n",
       "\n",
       "          yield_fact       absolut  \n",
       "count   24162.000000  2.416200e+04  \n",
       "mean      102.544983  3.635487e+03  \n",
       "min         0.000000  0.000000e+00  \n",
       "25%         1.309000  9.525600e+00  \n",
       "50%         2.177000  2.282753e+01  \n",
       "75%         3.500000  5.067597e+01  \n",
       "max    415745.400000  6.797437e+06  \n",
       "std      2731.259492  5.638757e+04  "
      ]
     },
     "execution_count": 7,
     "metadata": {},
     "output_type": "execute_result"
    }
   ],
   "source": [
    "ah2 = works\n",
    "ah2['absolut'] = ah2['yield_fact'] * ah2['area']\n",
    "ah2 = ah2[ah2['work_subtype'].isin(['Подбор и обмолот', 'Прямое комбайнирование'])]\n",
    "ah2.describe()"
   ]
  },
  {
   "cell_type": "code",
   "execution_count": 8,
   "metadata": {
    "id": "Y4WII28h6e3d"
   },
   "outputs": [
    {
     "data": {
      "image/png": "[encoded data removed]",
      "text/plain": [
       "<Figure size 1200x600 with 2 Axes>"
      ]
     },
     "metadata": {},
     "output_type": "display_data"
    }
   ],
   "source": [
    "fig, axes = plt.subplots(2, 1, figsize=(12, 6), sharex=True)\n",
    "\n",
    "# Первый boxplot\n",
    "sns.histplot(\n",
    "    x=ah2['yield_fact'],\n",
    "    ax=axes[0],\n",
    "    color=\"#0090CD\",\n",
    "    log_scale=True\n",
    ")\n",
    "axes[0].set_title(\"До нормализации\")\n",
    "axes[0].set_xlabel(\"Фактическая урожайность\")\n",
    "\n",
    "# Второй boxplot\n",
    "sns.histplot(\n",
    "    x=df['yield_fact'],\n",
    "    ax=axes[1],\n",
    "    color=\"#54B800\",\n",
    "    log_scale=True\n",
    ")\n",
    "axes[1].set_title(\"После нормализации\")\n",
    "axes[1].set_xlabel(\"Фактическая урожайность\")\n",
    "\n",
    "# Устанавливаем общий стиль\n",
    "plt.tight_layout()"
   ]
  },
  {
   "cell_type": "code",
   "execution_count": 9,
   "metadata": {
    "id": "Tuq9_tSrkSbt"
   },
   "outputs": [
    {
     "data": {
      "image/png": "[encoded data removed]",
      "text/plain": [
       "<Figure size 600x600 with 2 Axes>"
      ]
     },
     "metadata": {},
     "output_type": "display_data"
    }
   ],
   "source": [
    "fig, axes = plt.subplots(2, 1, figsize=(6, 6), sharex=True)\n",
    "\n",
    "# Первый boxplot\n",
    "sns.boxplot(\n",
    "    x=ah2['yield_fact'],\n",
    "    orient='h',\n",
    "    ax=axes[0],\n",
    "    color=\"#0090CD\",\n",
    "    log_scale=True\n",
    ")\n",
    "axes[0].set_title(\"До нормализации\")\n",
    "axes[0].set_xlabel(\"Фактическая урожайность\")\n",
    "\n",
    "# Второй boxplot\n",
    "sns.boxplot(\n",
    "    x=df['yield_fact'],\n",
    "    orient='h',\n",
    "    ax=axes[1],\n",
    "    color=\"#54B800\",\n",
    "    log_scale=True\n",
    ")\n",
    "axes[1].set_title(\"После нормализации\")\n",
    "axes[1].set_xlabel(\"Фактическая урожайность\")\n",
    "\n",
    "# Устанавливаем общий стиль\n",
    "plt.tight_layout()"
   ]
  },
  {
   "cell_type": "markdown",
   "metadata": {
    "id": "ARioaZNZmLBW"
   },
   "source": [
    "Сохранение полученного датасета"
   ]
  },
  {
   "cell_type": "code",
   "execution_count": 10,
   "metadata": {
    "id": "7_o1pDpHkVno"
   },
   "outputs": [],
   "source": [
    "df.to_csv('Dataset/works.csv', index=False)"
   ]
  },
  {
   "cell_type": "code",
   "execution_count": null,
   "metadata": {},
   "outputs": [],
   "source": []
  }
 ],
 "metadata": {
  "colab": {
   "provenance": []
  },
  "kernelspec": {
   "display_name": "Python 3 (ipykernel)",
   "language": "python",
   "name": "python3"
  },
  "language_info": {
   "codemirror_mode": {
    "name": "ipython",
    "version": 3
   },
   "file_extension": ".py",
   "mimetype": "text/x-python",
   "name": "python",
   "nbconvert_exporter": "python",
   "pygments_lexer": "ipython3",
   "version": "3.12.7"
  }
 },
 "nbformat": 4,
 "nbformat_minor": 4
}
