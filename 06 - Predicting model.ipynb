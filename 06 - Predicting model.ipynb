{
 "cells": [
  {
   "cell_type": "markdown",
   "metadata": {
    "id": "H65CHggybd_k"
   },
   "source": [
    "## Импорт библиотек"
   ]
  },
  {
   "cell_type": "code",
   "execution_count": 1,
   "metadata": {
    "id": "bARu7uv7ayAl"
   },
   "outputs": [],
   "source": [
    "import pandas as pd\n",
    "import numpy as np\n",
    "import matplotlib.pyplot as plt\n",
    "import seaborn as sns\n",
    "import warnings\n",
    "import statsmodels.api as sm\n",
    "\n",
    "from sklearn.preprocessing import PolynomialFeatures\n",
    "\n",
    "from sklearn.linear_model import LinearRegression\n",
    "from sklearn.model_selection import train_test_split\n",
    "from sklearn.preprocessing import OneHotEncoder\n",
    "from sklearn.metrics import r2_score\n",
    "from sklearn.metrics import mean_absolute_error\n",
    "import pandas as pd\n",
    "\n",
    "from statsmodels.stats.outliers_influence import variance_inflation_factor\n",
    "from sklearn.metrics import mean_squared_error"
   ]
  },
  {
   "cell_type": "code",
   "execution_count": 2,
   "metadata": {
    "id": "iDV_Gf0ObmjF"
   },
   "outputs": [],
   "source": [
    "warnings.filterwarnings('ignore')"
   ]
  },
  {
   "cell_type": "markdown",
   "metadata": {
    "id": "_apHkYi7bm90"
   },
   "source": [
    "## Считывание данных"
   ]
  },
  {
   "cell_type": "code",
   "execution_count": 3,
   "metadata": {
    "colab": {
     "base_uri": "https://localhost:8080/",
     "height": 213
    },
    "id": "q8Bu8_cRbq59",
    "outputId": "01857ad8-5a22-4046-ee62-7dda0b07ea68"
   },
   "outputs": [
    {
     "data": {
      "text/html": [
       "<div>\n",
       "<style scoped>\n",
       "    .dataframe tbody tr th:only-of-type {\n",
       "        vertical-align: middle;\n",
       "    }\n",
       "\n",
       "    .dataframe tbody tr th {\n",
       "        vertical-align: top;\n",
       "    }\n",
       "\n",
       "    .dataframe thead th {\n",
       "        text-align: right;\n",
       "    }\n",
       "</style>\n",
       "<table border=\"1\" class=\"dataframe\">\n",
       "  <thead>\n",
       "    <tr style=\"text-align: right;\">\n",
       "      <th></th>\n",
       "      <th>field</th>\n",
       "      <th>region</th>\n",
       "      <th>land_type</th>\n",
       "      <th>fertility_score</th>\n",
       "      <th>season</th>\n",
       "      <th>crop</th>\n",
       "      <th>crop_predecessor</th>\n",
       "      <th>crop_yearold</th>\n",
       "      <th>area</th>\n",
       "      <th>hybrid</th>\n",
       "      <th>...</th>\n",
       "      <th>yield_fact</th>\n",
       "      <th>is_anomaly_p2o5</th>\n",
       "      <th>is_anomaly_k2o</th>\n",
       "      <th>is_anomaly_ph</th>\n",
       "      <th>is_anomaly_humus</th>\n",
       "      <th>is_anomaly_yield_plan</th>\n",
       "      <th>is_anomaly_yield_fact</th>\n",
       "      <th>is_anomaly_area</th>\n",
       "      <th>count_anomaly</th>\n",
       "      <th>region_raw</th>\n",
       "    </tr>\n",
       "  </thead>\n",
       "  <tbody>\n",
       "    <tr>\n",
       "      <th>0</th>\n",
       "      <td>22.47.01.001.01</td>\n",
       "      <td>Другое</td>\n",
       "      <td>пашня</td>\n",
       "      <td>NaN</td>\n",
       "      <td>2023</td>\n",
       "      <td>злаки</td>\n",
       "      <td>Пар; Яр.пшеница мягкая</td>\n",
       "      <td>NaN</td>\n",
       "      <td>306.22</td>\n",
       "      <td>Скипетр</td>\n",
       "      <td>...</td>\n",
       "      <td>2.465597</td>\n",
       "      <td>False</td>\n",
       "      <td>False</td>\n",
       "      <td>False</td>\n",
       "      <td>False</td>\n",
       "      <td>False</td>\n",
       "      <td>False</td>\n",
       "      <td>True</td>\n",
       "      <td>0</td>\n",
       "      <td>Алтай</td>\n",
       "    </tr>\n",
       "    <tr>\n",
       "      <th>1</th>\n",
       "      <td>22.47.01.001.02</td>\n",
       "      <td>Другое</td>\n",
       "      <td>пашня</td>\n",
       "      <td>NaN</td>\n",
       "      <td>2023</td>\n",
       "      <td>NaN</td>\n",
       "      <td>Пар; Яр.пшеница мягкая</td>\n",
       "      <td>NaN</td>\n",
       "      <td>63.16</td>\n",
       "      <td>NaN</td>\n",
       "      <td>...</td>\n",
       "      <td>NaN</td>\n",
       "      <td>False</td>\n",
       "      <td>False</td>\n",
       "      <td>False</td>\n",
       "      <td>False</td>\n",
       "      <td>True</td>\n",
       "      <td>True</td>\n",
       "      <td>False</td>\n",
       "      <td>1</td>\n",
       "      <td>Алтай</td>\n",
       "    </tr>\n",
       "  </tbody>\n",
       "</table>\n",
       "<p>2 rows × 30 columns</p>\n",
       "</div>"
      ],
      "text/plain": [
       "             field  region land_type  fertility_score  season   crop  \\\n",
       "0  22.47.01.001.01  Другое     пашня              NaN    2023  злаки   \n",
       "1  22.47.01.001.02  Другое     пашня              NaN    2023    NaN   \n",
       "\n",
       "         crop_predecessor  crop_yearold    area   hybrid  ... yield_fact  \\\n",
       "0  Пар; Яр.пшеница мягкая           NaN  306.22  Скипетр  ...   2.465597   \n",
       "1  Пар; Яр.пшеница мягкая           NaN   63.16      NaN  ...        NaN   \n",
       "\n",
       "  is_anomaly_p2o5 is_anomaly_k2o  is_anomaly_ph  is_anomaly_humus  \\\n",
       "0           False          False          False             False   \n",
       "1           False          False          False             False   \n",
       "\n",
       "   is_anomaly_yield_plan  is_anomaly_yield_fact  is_anomaly_area  \\\n",
       "0                  False                  False             True   \n",
       "1                   True                   True            False   \n",
       "\n",
       "   count_anomaly  region_raw  \n",
       "0              0       Алтай  \n",
       "1              1       Алтай  \n",
       "\n",
       "[2 rows x 30 columns]"
      ]
     },
     "execution_count": 3,
     "metadata": {},
     "output_type": "execute_result"
    }
   ],
   "source": [
    "df = pd.read_csv(\"Dataset/fields_norm.csv\")\n",
    "df.head(2)"
   ]
  },
  {
   "cell_type": "markdown",
   "metadata": {
    "id": "3WBgTF9rcYcT"
   },
   "source": [
    "## Предобработка"
   ]
  },
  {
   "cell_type": "code",
   "execution_count": 4,
   "metadata": {
    "colab": {
     "base_uri": "https://localhost:8080/",
     "height": 213
    },
    "id": "s-4RmWpbcaWF",
    "outputId": "72be904b-2dc2-4417-9ffe-257627a5c361"
   },
   "outputs": [
    {
     "data": {
      "text/html": [
       "<div>\n",
       "<style scoped>\n",
       "    .dataframe tbody tr th:only-of-type {\n",
       "        vertical-align: middle;\n",
       "    }\n",
       "\n",
       "    .dataframe tbody tr th {\n",
       "        vertical-align: top;\n",
       "    }\n",
       "\n",
       "    .dataframe thead th {\n",
       "        text-align: right;\n",
       "    }\n",
       "</style>\n",
       "<table border=\"1\" class=\"dataframe\">\n",
       "  <thead>\n",
       "    <tr style=\"text-align: right;\">\n",
       "      <th></th>\n",
       "      <th>field</th>\n",
       "      <th>region</th>\n",
       "      <th>land_type</th>\n",
       "      <th>fertility_score</th>\n",
       "      <th>season</th>\n",
       "      <th>crop</th>\n",
       "      <th>crop_predecessor</th>\n",
       "      <th>crop_yearold</th>\n",
       "      <th>area</th>\n",
       "      <th>hybrid</th>\n",
       "      <th>...</th>\n",
       "      <th>yield_fact</th>\n",
       "      <th>is_anomaly_p2o5</th>\n",
       "      <th>is_anomaly_k2o</th>\n",
       "      <th>is_anomaly_ph</th>\n",
       "      <th>is_anomaly_humus</th>\n",
       "      <th>is_anomaly_yield_plan</th>\n",
       "      <th>is_anomaly_yield_fact</th>\n",
       "      <th>is_anomaly_area</th>\n",
       "      <th>count_anomaly</th>\n",
       "      <th>region_raw</th>\n",
       "    </tr>\n",
       "  </thead>\n",
       "  <tbody>\n",
       "    <tr>\n",
       "      <th>0</th>\n",
       "      <td>36.01.21.012.00</td>\n",
       "      <td>КурВо</td>\n",
       "      <td>пашня</td>\n",
       "      <td>3.0</td>\n",
       "      <td>2023</td>\n",
       "      <td>злаки</td>\n",
       "      <td>Подсолнечник кондит.</td>\n",
       "      <td>NaN</td>\n",
       "      <td>81.94</td>\n",
       "      <td>Вакула</td>\n",
       "      <td>...</td>\n",
       "      <td>0.000</td>\n",
       "      <td>False</td>\n",
       "      <td>False</td>\n",
       "      <td>False</td>\n",
       "      <td>False</td>\n",
       "      <td>False</td>\n",
       "      <td>False</td>\n",
       "      <td>False</td>\n",
       "      <td>0</td>\n",
       "      <td>Воронеж</td>\n",
       "    </tr>\n",
       "    <tr>\n",
       "      <th>1</th>\n",
       "      <td>36.01.21.013.00</td>\n",
       "      <td>КурВо</td>\n",
       "      <td>пашня</td>\n",
       "      <td>3.0</td>\n",
       "      <td>2023</td>\n",
       "      <td>злаки</td>\n",
       "      <td>Подсолнечник кондит.</td>\n",
       "      <td>NaN</td>\n",
       "      <td>157.36</td>\n",
       "      <td>Вакула</td>\n",
       "      <td>...</td>\n",
       "      <td>2.765</td>\n",
       "      <td>False</td>\n",
       "      <td>False</td>\n",
       "      <td>False</td>\n",
       "      <td>False</td>\n",
       "      <td>False</td>\n",
       "      <td>False</td>\n",
       "      <td>False</td>\n",
       "      <td>0</td>\n",
       "      <td>Воронеж</td>\n",
       "    </tr>\n",
       "  </tbody>\n",
       "</table>\n",
       "<p>2 rows × 30 columns</p>\n",
       "</div>"
      ],
      "text/plain": [
       "             field region land_type  fertility_score  season   crop  \\\n",
       "0  36.01.21.012.00  КурВо     пашня              3.0    2023  злаки   \n",
       "1  36.01.21.013.00  КурВо     пашня              3.0    2023  злаки   \n",
       "\n",
       "       crop_predecessor  crop_yearold    area  hybrid  ... yield_fact  \\\n",
       "0  Подсолнечник кондит.           NaN   81.94  Вакула  ...      0.000   \n",
       "1  Подсолнечник кондит.           NaN  157.36  Вакула  ...      2.765   \n",
       "\n",
       "  is_anomaly_p2o5 is_anomaly_k2o  is_anomaly_ph  is_anomaly_humus  \\\n",
       "0           False          False          False             False   \n",
       "1           False          False          False             False   \n",
       "\n",
       "   is_anomaly_yield_plan  is_anomaly_yield_fact  is_anomaly_area  \\\n",
       "0                  False                  False            False   \n",
       "1                  False                  False            False   \n",
       "\n",
       "   count_anomaly  region_raw  \n",
       "0              0     Воронеж  \n",
       "1              0     Воронеж  \n",
       "\n",
       "[2 rows x 30 columns]"
      ]
     },
     "execution_count": 4,
     "metadata": {},
     "output_type": "execute_result"
    }
   ],
   "source": [
    "df = df[df[\"crop\"] == \"злаки\"]\n",
    "df = df[~df[\"yield_plan\"].isna()]\n",
    "df = df[~df[\"yield_fact\"].isna()]\n",
    "df = df[df[\"count_anomaly\"] == 0]\n",
    "df = df[df[\"region\"] != \"Другое\"]\n",
    "df = df[df[\"is_anomaly_yield_fact\"] == 0] ###\n",
    "df = df.reset_index(drop=True)\n",
    "df.head(2)"
   ]
  },
  {
   "cell_type": "code",
   "execution_count": 5,
   "metadata": {
    "colab": {
     "base_uri": "https://localhost:8080/",
     "height": 883
    },
    "id": "UV4yZhU2ceKk",
    "outputId": "64bcb9f9-81ef-4d85-8bad-f5aba5ba3811"
   },
   "outputs": [
    {
     "data": {
      "image/png": "[encoded data removed]",
      "text/plain": [
       "<Figure size 640x480 with 1 Axes>"
      ]
     },
     "metadata": {},
     "output_type": "display_data"
    },
    {
     "data": {
      "image/png": "[encoded data removed]",
      "text/plain": [
       "<Figure size 640x480 with 1 Axes>"
      ]
     },
     "metadata": {},
     "output_type": "display_data"
    }
   ],
   "source": [
    "sns.histplot(x=df[\"yield_plan\"])\n",
    "plt.show()\n",
    "sns.histplot(x=df[\"yield_fact\"])\n",
    "plt.show()"
   ]
  },
  {
   "cell_type": "markdown",
   "metadata": {
    "id": "6VvuXWxcdkBP"
   },
   "source": [
    "Заметим, что отсутствуют выбросы по yield_plan и перейдем к построению регрессии.\n",
    "\n",
    "Выбросы по yield_fact отброшены.\n"
   ]
  },
  {
   "cell_type": "markdown",
   "metadata": {
    "id": "Sb8wMlopewyd"
   },
   "source": [
    "## Создание модели"
   ]
  },
  {
   "cell_type": "code",
   "execution_count": 6,
   "metadata": {
    "id": "kRH-G7aTVyo9"
   },
   "outputs": [],
   "source": [
    "def db_setup(data):\n",
    "    X, df_ys = data.drop(columns=[\"yield_fact\", \"yield_plan\"]).values, data[[\"yield_plan\", \"yield_fact\"]]\n",
    "    #define our polynomial model, with whatever degree we want\n",
    "    degree=2\n",
    "\n",
    "    # PolynomialFeatures will create a new matrix consisting of all polynomial combinations\n",
    "    # of the features with a degree less than or equal to the degree we just gave the model (2)\n",
    "    poly_model = PolynomialFeatures(degree=degree)\n",
    "\n",
    "    # transform out polynomial features\n",
    "    X_poly = poly_model.fit_transform(X)\n",
    "\n",
    "    df_poly = pd.DataFrame(X_poly, columns=poly_model.get_feature_names_out())\n",
    "\n",
    "    df_poly = df_poly.drop(['x0 x3', 'x3', 'x0^2', 'x4', 'x4^2', 'x0 x2', 'x2 x4', 'x0', 'x2', 'x1', 'x1 x2', 'x1^2', 'x3 x4'], axis=1)\n",
    "\n",
    "    df_poly = df_poly.reset_index(drop=True)\n",
    "    df_ys = df_ys.reset_index(drop=True)\n",
    "\n",
    "    df_poly = pd.concat([df_poly, df_ys], axis=1)\n",
    "\n",
    "    return df_poly"
   ]
  },
  {
   "cell_type": "code",
   "execution_count": 7,
   "metadata": {
    "colab": {
     "base_uri": "https://localhost:8080/",
     "height": 112
    },
    "id": "tGOjbozwe1Le",
    "outputId": "d0b06f38-70eb-4f32-c776-508e2cec7536"
   },
   "outputs": [
    {
     "data": {
      "text/html": [
       "<div>\n",
       "<style scoped>\n",
       "    .dataframe tbody tr th:only-of-type {\n",
       "        vertical-align: middle;\n",
       "    }\n",
       "\n",
       "    .dataframe tbody tr th {\n",
       "        vertical-align: top;\n",
       "    }\n",
       "\n",
       "    .dataframe thead th {\n",
       "        text-align: right;\n",
       "    }\n",
       "</style>\n",
       "<table border=\"1\" class=\"dataframe\">\n",
       "  <thead>\n",
       "    <tr style=\"text-align: right;\">\n",
       "      <th></th>\n",
       "      <th>region</th>\n",
       "      <th>p2o5</th>\n",
       "      <th>k2o</th>\n",
       "      <th>humus</th>\n",
       "      <th>ph</th>\n",
       "      <th>is_curvo</th>\n",
       "      <th>yield_fact</th>\n",
       "      <th>yield_plan</th>\n",
       "    </tr>\n",
       "  </thead>\n",
       "  <tbody>\n",
       "    <tr>\n",
       "      <th>0</th>\n",
       "      <td>КурВо</td>\n",
       "      <td>105.5</td>\n",
       "      <td>131.5</td>\n",
       "      <td>6.35</td>\n",
       "      <td>5.55</td>\n",
       "      <td>True</td>\n",
       "      <td>0.000</td>\n",
       "      <td>5.0</td>\n",
       "    </tr>\n",
       "    <tr>\n",
       "      <th>1</th>\n",
       "      <td>КурВо</td>\n",
       "      <td>136.0</td>\n",
       "      <td>128.0</td>\n",
       "      <td>6.00</td>\n",
       "      <td>6.00</td>\n",
       "      <td>True</td>\n",
       "      <td>2.765</td>\n",
       "      <td>5.0</td>\n",
       "    </tr>\n",
       "  </tbody>\n",
       "</table>\n",
       "</div>"
      ],
      "text/plain": [
       "  region   p2o5    k2o  humus    ph  is_curvo  yield_fact  yield_plan\n",
       "0  КурВо  105.5  131.5   6.35  5.55      True       0.000         5.0\n",
       "1  КурВо  136.0  128.0   6.00  6.00      True       2.765         5.0"
      ]
     },
     "execution_count": 7,
     "metadata": {},
     "output_type": "execute_result"
    }
   ],
   "source": [
    "df_gen = df[[\"season\", 'region', 'p2o5', 'k2o', 'humus', 'ph', \"yield_fact\", \"yield_plan\"]]\n",
    "df_gen[\"is_curvo\"] = df[\"region\"] == \"КурВо\"\n",
    "df_season_setup = df_gen[['season', 'region', 'p2o5', 'k2o', 'humus', 'ph', 'is_curvo', \"yield_fact\", \"yield_plan\"]]\n",
    "df_23 = df_season_setup[df_season_setup['season'] == 2023].drop(columns=[\"season\"])\n",
    "df_24 = df_season_setup[df_season_setup['season'] == 2024].drop(columns=[\"season\"])\n",
    "df_train = df_gen.drop(columns=[\"region\", \"season\"])\n",
    "df_23.head(2)"
   ]
  },
  {
   "cell_type": "code",
   "execution_count": 8,
   "metadata": {
    "colab": {
     "base_uri": "https://localhost:8080/"
    },
    "id": "QieH9xJ8rvH0",
    "outputId": "895e95f3-7061-4973-a250-c4051dd2ba01"
   },
   "outputs": [
    {
     "data": {
      "text/plain": [
       "(array([105.5, 131.5, 6.35, 5.55, True], dtype=object), np.float64(0.0))"
      ]
     },
     "execution_count": 8,
     "metadata": {},
     "output_type": "execute_result"
    }
   ],
   "source": [
    "X, df_y_plan, y = df_train.drop(columns=[\"yield_fact\", \"yield_plan\"]).values, df[[\"yield_plan\"]], df_train[\"yield_fact\"].values\n",
    "\n",
    "X[0], y[0]"
   ]
  },
  {
   "cell_type": "code",
   "execution_count": 9,
   "metadata": {
    "colab": {
     "base_uri": "https://localhost:8080/",
     "height": 179
    },
    "id": "k1QR9PrBsP5Y",
    "outputId": "e259f287-ff1c-4cdc-c77b-777356f36465"
   },
   "outputs": [
    {
     "data": {
      "text/html": [
       "<div>\n",
       "<style scoped>\n",
       "    .dataframe tbody tr th:only-of-type {\n",
       "        vertical-align: middle;\n",
       "    }\n",
       "\n",
       "    .dataframe tbody tr th {\n",
       "        vertical-align: top;\n",
       "    }\n",
       "\n",
       "    .dataframe thead th {\n",
       "        text-align: right;\n",
       "    }\n",
       "</style>\n",
       "<table border=\"1\" class=\"dataframe\">\n",
       "  <thead>\n",
       "    <tr style=\"text-align: right;\">\n",
       "      <th></th>\n",
       "      <th>1</th>\n",
       "      <th>x0</th>\n",
       "      <th>x1</th>\n",
       "      <th>x2</th>\n",
       "      <th>x3</th>\n",
       "      <th>x4</th>\n",
       "      <th>x0^2</th>\n",
       "      <th>x0 x1</th>\n",
       "      <th>x0 x2</th>\n",
       "      <th>x0 x3</th>\n",
       "      <th>...</th>\n",
       "      <th>x1^2</th>\n",
       "      <th>x1 x2</th>\n",
       "      <th>x1 x3</th>\n",
       "      <th>x1 x4</th>\n",
       "      <th>x2^2</th>\n",
       "      <th>x2 x3</th>\n",
       "      <th>x2 x4</th>\n",
       "      <th>x3^2</th>\n",
       "      <th>x3 x4</th>\n",
       "      <th>x4^2</th>\n",
       "    </tr>\n",
       "  </thead>\n",
       "  <tbody>\n",
       "    <tr>\n",
       "      <th>0</th>\n",
       "      <td>1.0</td>\n",
       "      <td>105.5</td>\n",
       "      <td>131.5</td>\n",
       "      <td>6.35</td>\n",
       "      <td>5.55</td>\n",
       "      <td>1.0</td>\n",
       "      <td>11130.25</td>\n",
       "      <td>13873.25</td>\n",
       "      <td>669.925</td>\n",
       "      <td>585.525</td>\n",
       "      <td>...</td>\n",
       "      <td>17292.25</td>\n",
       "      <td>835.025</td>\n",
       "      <td>729.825</td>\n",
       "      <td>131.5</td>\n",
       "      <td>40.3225</td>\n",
       "      <td>35.2425</td>\n",
       "      <td>6.35</td>\n",
       "      <td>30.8025</td>\n",
       "      <td>5.55</td>\n",
       "      <td>1.0</td>\n",
       "    </tr>\n",
       "    <tr>\n",
       "      <th>1</th>\n",
       "      <td>1.0</td>\n",
       "      <td>136.0</td>\n",
       "      <td>128.0</td>\n",
       "      <td>6.00</td>\n",
       "      <td>6.00</td>\n",
       "      <td>1.0</td>\n",
       "      <td>18496.00</td>\n",
       "      <td>17408.00</td>\n",
       "      <td>816.000</td>\n",
       "      <td>816.000</td>\n",
       "      <td>...</td>\n",
       "      <td>16384.00</td>\n",
       "      <td>768.000</td>\n",
       "      <td>768.000</td>\n",
       "      <td>128.0</td>\n",
       "      <td>36.0000</td>\n",
       "      <td>36.0000</td>\n",
       "      <td>6.00</td>\n",
       "      <td>36.0000</td>\n",
       "      <td>6.00</td>\n",
       "      <td>1.0</td>\n",
       "    </tr>\n",
       "  </tbody>\n",
       "</table>\n",
       "<p>2 rows × 21 columns</p>\n",
       "</div>"
      ],
      "text/plain": [
       "     1     x0     x1    x2    x3   x4      x0^2     x0 x1    x0 x2    x0 x3  \\\n",
       "0  1.0  105.5  131.5  6.35  5.55  1.0  11130.25  13873.25  669.925  585.525   \n",
       "1  1.0  136.0  128.0  6.00  6.00  1.0  18496.00  17408.00  816.000  816.000   \n",
       "\n",
       "   ...      x1^2    x1 x2    x1 x3  x1 x4     x2^2    x2 x3  x2 x4     x3^2  \\\n",
       "0  ...  17292.25  835.025  729.825  131.5  40.3225  35.2425   6.35  30.8025   \n",
       "1  ...  16384.00  768.000  768.000  128.0  36.0000  36.0000   6.00  36.0000   \n",
       "\n",
       "   x3 x4  x4^2  \n",
       "0   5.55   1.0  \n",
       "1   6.00   1.0  \n",
       "\n",
       "[2 rows x 21 columns]"
      ]
     },
     "execution_count": 9,
     "metadata": {},
     "output_type": "execute_result"
    }
   ],
   "source": [
    "#define our polynomial model, with whatever degree we want\n",
    "degree=2\n",
    "\n",
    "# PolynomialFeatures will create a new matrix consisting of all polynomial combinations\n",
    "# of the features with a degree less than or equal to the degree we just gave the model (2)\n",
    "poly_model = PolynomialFeatures(degree=degree)\n",
    "\n",
    "# transform out polynomial features\n",
    "X_poly = poly_model.fit_transform(X)\n",
    "\n",
    "df_poly = pd.DataFrame(X_poly, columns=poly_model.get_feature_names_out())\n",
    "\n",
    "# should be in the form [1, a, b, a^2, ab, b^2]\n",
    "# print(f'initial values {X[0]}\\nMapped to {X_poly[0]}')\n",
    "df_poly.head(2)"
   ]
  },
  {
   "cell_type": "code",
   "execution_count": 10,
   "metadata": {
    "id": "6UE4XJUavj_A"
   },
   "outputs": [],
   "source": [
    "# # poly_model.get_feature_names_out()\n",
    "# df_poly = X\n",
    "# df_poly = pd.DataFrame(X_poly)"
   ]
  },
  {
   "cell_type": "code",
   "execution_count": 11,
   "metadata": {
    "colab": {
     "base_uri": "https://localhost:8080/"
    },
    "id": "7rBJdOny06gT",
    "outputId": "07f10a8c-9382-4bc4-abbe-43b403a1975e"
   },
   "outputs": [
    {
     "data": {
      "text/plain": [
       "((1841, 21), (1841, 1))"
      ]
     },
     "execution_count": 11,
     "metadata": {},
     "output_type": "execute_result"
    }
   ],
   "source": [
    "df_poly.shape, df_y_plan.shape"
   ]
  },
  {
   "cell_type": "code",
   "execution_count": 12,
   "metadata": {
    "colab": {
     "base_uri": "https://localhost:8080/"
    },
    "id": "5g-DymN73Qen",
    "outputId": "0967a1a5-2397-46e0-c94c-6855f449ec97"
   },
   "outputs": [
    {
     "data": {
      "text/plain": [
       "Index(['1', 'x0', 'x1', 'x2', 'x3', 'x4', 'x0^2', 'x0 x1', 'x0 x2', 'x0 x3',\n",
       "       'x0 x4', 'x1^2', 'x1 x2', 'x1 x3', 'x1 x4', 'x2^2', 'x2 x3', 'x2 x4',\n",
       "       'x3^2', 'x3 x4', 'x4^2'],\n",
       "      dtype='object')"
      ]
     },
     "execution_count": 12,
     "metadata": {},
     "output_type": "execute_result"
    }
   ],
   "source": [
    "df_poly.columns"
   ]
  },
  {
   "cell_type": "code",
   "execution_count": 13,
   "metadata": {
    "id": "ZvYw8awlJ9j2"
   },
   "outputs": [],
   "source": [
    "df_poly_n = df_poly.drop(['x0 x3', 'x3', 'x0^2', 'x4', 'x4^2', 'x0 x2', 'x2 x4', 'x0', 'x2', 'x1', 'x1 x2', 'x1^2', 'x3 x4'], axis=1)"
   ]
  },
  {
   "cell_type": "code",
   "execution_count": 14,
   "metadata": {
    "colab": {
     "base_uri": "https://localhost:8080/",
     "height": 112
    },
    "id": "hu72K9O_vMj5",
    "outputId": "700ef602-190b-4384-f180-ab2d862b1c47"
   },
   "outputs": [
    {
     "data": {
      "text/html": [
       "<div>\n",
       "<style scoped>\n",
       "    .dataframe tbody tr th:only-of-type {\n",
       "        vertical-align: middle;\n",
       "    }\n",
       "\n",
       "    .dataframe tbody tr th {\n",
       "        vertical-align: top;\n",
       "    }\n",
       "\n",
       "    .dataframe thead th {\n",
       "        text-align: right;\n",
       "    }\n",
       "</style>\n",
       "<table border=\"1\" class=\"dataframe\">\n",
       "  <thead>\n",
       "    <tr style=\"text-align: right;\">\n",
       "      <th></th>\n",
       "      <th>1</th>\n",
       "      <th>x0 x1</th>\n",
       "      <th>x0 x4</th>\n",
       "      <th>x1 x3</th>\n",
       "      <th>x1 x4</th>\n",
       "      <th>x2^2</th>\n",
       "      <th>x2 x3</th>\n",
       "      <th>x3^2</th>\n",
       "      <th>yield_plan</th>\n",
       "    </tr>\n",
       "  </thead>\n",
       "  <tbody>\n",
       "    <tr>\n",
       "      <th>0</th>\n",
       "      <td>1.0</td>\n",
       "      <td>13873.25</td>\n",
       "      <td>105.5</td>\n",
       "      <td>729.825</td>\n",
       "      <td>131.5</td>\n",
       "      <td>40.3225</td>\n",
       "      <td>35.2425</td>\n",
       "      <td>30.8025</td>\n",
       "      <td>5.0</td>\n",
       "    </tr>\n",
       "    <tr>\n",
       "      <th>1</th>\n",
       "      <td>1.0</td>\n",
       "      <td>17408.00</td>\n",
       "      <td>136.0</td>\n",
       "      <td>768.000</td>\n",
       "      <td>128.0</td>\n",
       "      <td>36.0000</td>\n",
       "      <td>36.0000</td>\n",
       "      <td>36.0000</td>\n",
       "      <td>5.0</td>\n",
       "    </tr>\n",
       "  </tbody>\n",
       "</table>\n",
       "</div>"
      ],
      "text/plain": [
       "     1     x0 x1  x0 x4    x1 x3  x1 x4     x2^2    x2 x3     x3^2  yield_plan\n",
       "0  1.0  13873.25  105.5  729.825  131.5  40.3225  35.2425  30.8025         5.0\n",
       "1  1.0  17408.00  136.0  768.000  128.0  36.0000  36.0000  36.0000         5.0"
      ]
     },
     "execution_count": 14,
     "metadata": {},
     "output_type": "execute_result"
    }
   ],
   "source": [
    "df_poly_n = df_poly_n.reset_index(drop=True)\n",
    "df_y_plan = df_y_plan.reset_index(drop=True)\n",
    "\n",
    "df_poly_n = pd.concat([df_poly_n, df_y_plan], axis=1)\n",
    "df_poly_n.head(2)"
   ]
  },
  {
   "cell_type": "code",
   "execution_count": 15,
   "metadata": {
    "colab": {
     "base_uri": "https://localhost:8080/"
    },
    "id": "XIyuAB31lOnk",
    "outputId": "2d370ad2-7072-4da4-a2f1-d94fb73e05af"
   },
   "outputs": [
    {
     "data": {
      "text/plain": [
       "((1841, 9), (1841,))"
      ]
     },
     "execution_count": 15,
     "metadata": {},
     "output_type": "execute_result"
    }
   ],
   "source": [
    "df_poly_n.shape, y.shape"
   ]
  },
  {
   "cell_type": "code",
   "execution_count": 16,
   "metadata": {
    "colab": {
     "base_uri": "https://localhost:8080/"
    },
    "id": "TkTrgTJNsgA_",
    "outputId": "883aac1b-8cfb-4627-93d2-6a8a5925745f"
   },
   "outputs": [
    {
     "data": {
      "text/plain": [
       "Index(['1', 'x0 x1', 'x0 x4', 'x1 x3', 'x1 x4', 'x2^2', 'x2 x3', 'x3^2',\n",
       "       'yield_plan'],\n",
       "      dtype='object')"
      ]
     },
     "execution_count": 16,
     "metadata": {},
     "output_type": "execute_result"
    }
   ],
   "source": [
    "X_train, X_test, y_train, y_test = train_test_split(df_poly_n, y, test_size=0.2, random_state=42)\n",
    "X_train.columns"
   ]
  },
  {
   "cell_type": "code",
   "execution_count": 17,
   "metadata": {
    "id": "Py2H6KKTt9YJ"
   },
   "outputs": [],
   "source": [
    "X_train, yield_plan_train = X_train.drop(columns=[\"yield_plan\"]), X_train[\"yield_plan\"]\n",
    "X_test, yield_plan_test = X_test.drop(columns=[\"yield_plan\"]), X_test[\"yield_plan\"]"
   ]
  },
  {
   "cell_type": "code",
   "execution_count": 18,
   "metadata": {
    "id": "4i9ZvBkct67g"
   },
   "outputs": [],
   "source": [
    "regression_model = LinearRegression()\n",
    "\n",
    "regression_model.fit(X_train, y_train)\n",
    "\n",
    "y_pred = regression_model.predict(X_test)"
   ]
  },
  {
   "cell_type": "code",
   "execution_count": 19,
   "metadata": {
    "id": "JEnPI50so_X2"
   },
   "outputs": [],
   "source": [
    "y_pred_test = regression_model.predict(X_test)\n",
    "y_pred_train = regression_model.predict(X_train)"
   ]
  },
  {
   "cell_type": "code",
   "execution_count": 20,
   "metadata": {
    "colab": {
     "base_uri": "https://localhost:8080/"
    },
    "id": "0GiSUOKVjyEa",
    "outputId": "6273920c-811f-49d2-d511-2ba64c22bb48"
   },
   "outputs": [
    {
     "data": {
      "text/plain": [
       "(np.float64(1.0356656506767106), np.float64(2.4028069191306236))"
      ]
     },
     "execution_count": 20,
     "metadata": {},
     "output_type": "execute_result"
    }
   ],
   "source": [
    "mean_absolute_error(y_train, y_pred_train), mean_absolute_error(y_train, yield_plan_train)"
   ]
  },
  {
   "cell_type": "code",
   "execution_count": 21,
   "metadata": {
    "colab": {
     "base_uri": "https://localhost:8080/"
    },
    "id": "lmTYOGG-kwHS",
    "outputId": "7ae39250-04c2-4851-c465-2a7468c2266c"
   },
   "outputs": [
    {
     "data": {
      "text/plain": [
       "(np.float64(0.9791831474143634), np.float64(2.2832068157428953))"
      ]
     },
     "execution_count": 21,
     "metadata": {},
     "output_type": "execute_result"
    }
   ],
   "source": [
    "mean_absolute_error(y_test, y_pred_test), mean_absolute_error(y_test, yield_plan_test)"
   ]
  },
  {
   "cell_type": "code",
   "execution_count": 22,
   "metadata": {
    "colab": {
     "base_uri": "https://localhost:8080/"
    },
    "id": "4y4USii3fyVJ",
    "outputId": "638398ad-1cff-4158-dc97-1fff7216c5d1"
   },
   "outputs": [
    {
     "data": {
      "text/plain": [
       "Index(['1', 'x0 x1', 'x0 x4', 'x1 x3', 'x1 x4', 'x2^2', 'x2 x3', 'x3^2'], dtype='object')"
      ]
     },
     "execution_count": 22,
     "metadata": {},
     "output_type": "execute_result"
    }
   ],
   "source": [
    "X_test.columns"
   ]
  },
  {
   "cell_type": "code",
   "execution_count": 23,
   "metadata": {
    "colab": {
     "base_uri": "https://localhost:8080/"
    },
    "id": "oOXkz418fl47",
    "outputId": "4a959180-3ef8-409a-b910-b813ad1df4fc"
   },
   "outputs": [
    {
     "data": {
      "text/plain": [
       "array([ 0.00000000e+00,  2.08246361e-05, -2.30499196e-03, -8.28766355e-04,\n",
       "        3.19233238e-03, -3.93077786e-02,  7.30781705e-02, -2.64265835e-02])"
      ]
     },
     "execution_count": 23,
     "metadata": {},
     "output_type": "execute_result"
    }
   ],
   "source": [
    "regression_model.coef_"
   ]
  },
  {
   "cell_type": "code",
   "execution_count": 24,
   "metadata": {
    "colab": {
     "base_uri": "https://localhost:8080/"
    },
    "id": "Fbtq7RHhlnRJ",
    "outputId": "1c3d2d30-c66b-433b-8c5b-d2b22453cee9"
   },
   "outputs": [
    {
     "data": {
      "text/plain": [
       "(np.float64(1.1615035371910816), np.float64(2.310589952686102))"
      ]
     },
     "execution_count": 24,
     "metadata": {},
     "output_type": "execute_result"
    }
   ],
   "source": [
    "df_23[\"is_curvo\"] = df_23[\"region\"] == \"КурВо\"\n",
    "df_23 = df_23.drop(columns=[\"region\"])\n",
    "df_23 = db_setup(df_23)\n",
    "X_23, y_23 = df_23.drop(columns=[\"yield_fact\"]), df_23[\"yield_fact\"]\n",
    "X_23, plan = X_23.drop(columns=[\"yield_plan\"]), X_23[\"yield_plan\"]\n",
    "mean_absolute_error(y_23, regression_model.predict(X_23)), mean_absolute_error(y_23, plan)"
   ]
  },
  {
   "cell_type": "code",
   "execution_count": 25,
   "metadata": {
    "colab": {
     "base_uri": "https://localhost:8080/"
    },
    "id": "McfaaIMmYx3L",
    "outputId": "f093c822-fb72-4621-92f8-4def0730acd7"
   },
   "outputs": [
    {
     "data": {
      "text/plain": [
       "(np.float64(0.8732505774002557), np.float64(2.4540134653279884))"
      ]
     },
     "execution_count": 25,
     "metadata": {},
     "output_type": "execute_result"
    }
   ],
   "source": [
    "df_24[\"is_curvo\"] = df_24[\"region\"] == \"КурВо\"\n",
    "df_24 = df_24.drop(columns=[\"region\"])\n",
    "df_24 = db_setup(df_24)\n",
    "X_24, y_24 = df_24.drop(columns=[\"yield_fact\"]), df_24[\"yield_fact\"]\n",
    "X_24, plan = X_24.drop(columns=[\"yield_plan\"]), X_24[\"yield_plan\"]\n",
    "mean_absolute_error(y_24, regression_model.predict(X_24)), mean_absolute_error(y_24, plan)"
   ]
  },
  {
   "cell_type": "markdown",
   "metadata": {
    "id": "WMiTwIoNJtd6"
   },
   "source": [
    "Оптимизация статзначимости"
   ]
  },
  {
   "cell_type": "code",
   "execution_count": 26,
   "metadata": {
    "id": "GXmHqa05d09v"
   },
   "outputs": [],
   "source": [
    "a = ['x0 x3', 'x3', 'x0^2', 'x4', 'x4^2', 'x0 x2', 'x2 x4', 'x0', 'x2', 'x1', 'x1 x2', 'x1^2', 'x3 x4']\n",
    "drop = []\n",
    "out1 = []\n",
    "\n",
    "for i, e in enumerate(a):\n",
    "  drop.append(e)\n",
    "\n",
    "  df_poly_n = pd.concat([df_poly, df_y_plan], axis=1)\n",
    "  df_poly_n = df_poly_n.drop(drop, axis=1)\n",
    "\n",
    "  df_poly_n.head(2)\n",
    "\n",
    "  X_train, X_test, y_train, y_test = train_test_split(df_poly_n, y, test_size=0.2, random_state=42)\n",
    "  X_train.columns\n",
    "\n",
    "  X_train, yield_plan_train = X_train.drop(columns=[\"yield_plan\"]), X_train[\"yield_plan\"]\n",
    "  X_test, yield_plan_test = X_test.drop(columns=[\"yield_plan\"]), X_test[\"yield_plan\"]\n",
    "\n",
    "  X_train = sm.add_constant(X_train)\n",
    "\n",
    "  regression_model = sm.OLS(y_train, X_train).fit()\n",
    "\n",
    "  out1.append([i, regression_model.pvalues.max(), \"max\"])\n",
    "  out1.append([i, regression_model.pvalues.median(), \"median\"])\n",
    "\n",
    "out1 = pd.DataFrame(out1, columns=['Итерация', 'p-value', 'Значение'])"
   ]
  },
  {
   "cell_type": "code",
   "execution_count": 27,
   "metadata": {
    "id": "SIacG62zJmhU"
   },
   "outputs": [
    {
     "data": {
      "image/png": "[encoded data removed]",
      "text/plain": [
       "<Figure size 640x480 with 1 Axes>"
      ]
     },
     "metadata": {},
     "output_type": "display_data"
    }
   ],
   "source": [
    "ar = sns.lineplot(out1, x='Итерация', y='p-value', hue='Значение', marker=\"o\", palette={'max': \"#0090CD\", 'median': \"#54B800\"})\n",
    "None"
   ]
  },
  {
   "cell_type": "code",
   "execution_count": null,
   "metadata": {},
   "outputs": [],
   "source": []
  }
 ],
 "metadata": {
  "colab": {
   "provenance": []
  },
  "kernelspec": {
   "display_name": "Python 3 (ipykernel)",
   "language": "python",
   "name": "python3"
  },
  "language_info": {
   "codemirror_mode": {
    "name": "ipython",
    "version": 3
   },
   "file_extension": ".py",
   "mimetype": "text/x-python",
   "name": "python",
   "nbconvert_exporter": "python",
   "pygments_lexer": "ipython3",
   "version": "3.12.7"
  }
 },
 "nbformat": 4,
 "nbformat_minor": 4
}
